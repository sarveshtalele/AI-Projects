{
 "cells": [
  {
   "cell_type": "markdown",
   "id": "99dba6bb",
   "metadata": {},
   "source": [
    "# Webpage Summarizer using Ollama \n",
    "\n",
    "Tired of wasting time on clickbait headlines and unnecessarily long articles? Our project is designed to solve that problem. It intelligently analyzes any web page on the internet and provides a concise, detailed summary of its contents. This allows you to quickly grasp the essential information without having to read through every word. By cutting through the fluff, our tool saves you valuable time, reduces reading fatigue, and boosts your productivity, empowering you to explore more information efficiently. "
   ]
  },
  {
   "cell_type": "markdown",
   "id": "7b90eae0",
   "metadata": {},
   "source": [
    "## A. Solution:"
   ]
  },
  {
   "cell_type": "markdown",
   "id": "dd5175e4",
   "metadata": {},
   "source": [
    "### 1. Importing Libraries"
   ]
  },
  {
   "cell_type": "code",
   "execution_count": 1,
   "id": "2ff1fa1e",
   "metadata": {},
   "outputs": [],
   "source": [
    "import requests\n",
    "from bs4 import BeautifulSoup\n",
    "from IPython.display import Markdown, display\n",
    "import ollama "
   ]
  },
  {
   "cell_type": "markdown",
   "id": "8011fa83",
   "metadata": {},
   "source": [
    "### 2. Selecting the Model"
   ]
  },
  {
   "cell_type": "code",
   "execution_count": 2,
   "id": "a49cea60",
   "metadata": {},
   "outputs": [],
   "source": [
    "Model = \"llama3.2:1b\""
   ]
  },
  {
   "cell_type": "markdown",
   "id": "e1f4a47f",
   "metadata": {},
   "source": [
    "### 3. Scraping Website using beautifulsoup Library"
   ]
  },
  {
   "cell_type": "code",
   "execution_count": 3,
   "id": "eccfd6b3",
   "metadata": {},
   "outputs": [],
   "source": [
    "class Scrapped_Website:\n",
    "    def __init__(self, url):\n",
    "        self.url = url\n",
    "        reponse = requests.get(url)\n",
    "        soup = BeautifulSoup(reponse.text, 'html.parser')\n",
    "        self.title = soup.title.string if soup.title and soup.title.string else 'No Title Found'\n",
    "        for irrelevant in soup(['script', 'style']):\n",
    "            irrelevant.decompose()\n",
    "        self.text = soup.body.get_text(separator='\\n', strip=True) if soup.body else 'No Content Found'"
   ]
  },
  {
   "cell_type": "markdown",
   "id": "4dacf06b",
   "metadata": {},
   "source": [
    "### 4. Viewing the Website contents"
   ]
  },
  {
   "cell_type": "code",
   "execution_count": 4,
   "id": "8cf202b5",
   "metadata": {},
   "outputs": [
    {
     "data": {
      "text/markdown": [
       "# 4 Ways to Have a Good Night's Sleep - wikiHow\n",
       "\n",
       "Skip to Content\n",
       "Quizzes\n",
       "PRO\n",
       "Courses\n",
       "Hot\n",
       "Guides\n",
       "Tech Help Pro\n",
       "Expert Videos\n",
       "About wikiHow Pro\n",
       "Upgrade\n",
       "QUIZZES\n",
       "All Quizzes\n",
       "Hot\n",
       "Love Quizzes\n",
       "Personality Quizzes\n",
       "Trivia Quizzes\n",
       "Taylor Swift Quizzes\n",
       "EDIT\n",
       "Edit this Article\n",
       "EXPLORE\n",
       "Tech Help Pro\n",
       "About Us\n",
       "Random Article\n",
       "Quizzes\n",
       "Request a New Article\n",
       "Community Dashboard\n",
       "Trending\n",
       "Forums\n",
       "Arts and Entertainment\n",
       "Artwork\n",
       "Books\n",
       "Movies\n",
       "Computers and Electronics\n",
       "Computers\n",
       "Phone Skills\n",
       "Technology Hacks\n",
       "Health\n",
       "Men's Health\n",
       "Mental Health\n",
       "Women's Health\n",
       "Relationship..."
      ],
      "text/plain": [
       "<IPython.core.display.Markdown object>"
      ]
     },
     "metadata": {},
     "output_type": "display_data"
    }
   ],
   "source": [
    "url = \"https://www.wikihow.com/Have-a-Good-Night%27s-Sleep\"\n",
    "web_page = Scrapped_Website(url)\n",
    "display(Markdown(f\"# {web_page.title}\\n\\n{web_page.text[:500]}...\"))"
   ]
  },
  {
   "cell_type": "markdown",
   "id": "4d6e7008",
   "metadata": {},
   "source": [
    "### 5. Designing Chat responses"
   ]
  },
  {
   "cell_type": "code",
   "execution_count": 5,
   "id": "4af2cf89",
   "metadata": {},
   "outputs": [],
   "source": [
    "system_prompt=  \"\"\"You are a helpful assistant that summarizes web pages into concise and informative summaries.\n",
    "Your task is to read the content of a web page and provide a summary that captures the main points and key information.\n",
    "The summary should be clear, coherent, and easy to understand, providing a quick overview of the page's content.\n",
    "When summarizing, consider the following: Formatting in markdown the summary with bullet points or numbered lists for clarity.\n",
    "Highlighting important details and key takeaways. and Ensuring the summary is concise yet comprehensive. Style of writng should be as a journalist.\"\"\""
   ]
  },
  {
   "cell_type": "code",
   "execution_count": 6,
   "id": "075d31e3",
   "metadata": {},
   "outputs": [],
   "source": [
    "user_prompt = f\"\"\"Summarize the following web page content in a concise and informative manner.\"\"\""
   ]
  },
  {
   "cell_type": "code",
   "execution_count": 7,
   "id": "eebebf4a",
   "metadata": {},
   "outputs": [],
   "source": [
    "def messages(web_page):\n",
    "    return [\n",
    "        {\"role\": \"system\", \"content\": system_prompt},\n",
    "        {\"role\": \"user\", \"content\":  f\"{user_prompt}\\n\\n{web_page.text}\"}\n",
    "    ]"
   ]
  },
  {
   "cell_type": "markdown",
   "id": "80c857bb",
   "metadata": {},
   "source": [
    "### 6. Fetching the Ollama Model to generate summary"
   ]
  },
  {
   "cell_type": "code",
   "execution_count": 8,
   "id": "866d8bc8",
   "metadata": {},
   "outputs": [],
   "source": [
    "def fetch_and_summarize(url):\n",
    "    web_page = Scrapped_Website(url)\n",
    "    message = messages(web_page)\n",
    "    response = ollama.chat(model=Model, messages=messages(web_page))\n",
    "    return response['message']['content']"
   ]
  },
  {
   "cell_type": "code",
   "execution_count": 9,
   "id": "65e3d446",
   "metadata": {},
   "outputs": [
    {
     "data": {
      "text/markdown": [
       "The article provides tips on how to improve sleep quality. Here are the main points:\n",
       "\n",
       "1. **Establish a bedtime routine**: Go to bed and wake up at the same time each day, including weekends.\n",
       "2. **Get 7-9 hours of sleep per night**: Aim for a consistent sleep schedule to regulate your body's internal clock.\n",
       "3. **Create a comfortable sleep environment**: Make sure your bedroom is dark, quiet, and cool. Consider using blackout curtains, earplugs, or a white noise machine if necessary.\n",
       "4. **Avoid stimulating activities before bedtime**: Avoid screens (e.g., phones, tablets, or laptops), exercise, or caffeine-rich foods and drinks for at least an hour before bed.\n",
       "5. **Try relaxation techniques**: Engage in calming activities like reading, meditation, or deep breathing exercises to help you relax and fall asleep.\n",
       "6. **Limit naps during the day**: If you're having trouble sleeping, try to limit your daytime napping to 20-30 minutes and avoid napping close to bedtime.\n",
       "7. **Get some morning sunlight**: Exposure to natural light in the morning helps regulate your circadian rhythms, which can improve sleep quality.\n",
       "\n",
       "Additionally, the article mentions other tips, such as:\n",
       "\n",
       "* Using a mattress that's soft and comfortable\n",
       "* Choosing bed sheets made of breathable materials\n",
       "* Creating a cozy reading nook or pillow fort\n",
       "* Avoiding heavy meals close to bedtime\n",
       "\n",
       "By following these tips, individuals can improve their sleep quality, wake up feeling refreshed and energized."
      ],
      "text/plain": [
       "<IPython.core.display.Markdown object>"
      ]
     },
     "metadata": {},
     "output_type": "display_data"
    }
   ],
   "source": [
    "write_summary= fetch_and_summarize(\"https://www.wikihow.com/Have-a-Good-Night%27s-Sleep\")\n",
    "display(Markdown(write_summary))"
   ]
  },
  {
   "cell_type": "code",
   "execution_count": 10,
   "id": "b5531745",
   "metadata": {},
   "outputs": [
    {
     "data": {
      "text/markdown": [
       "I'm sorry, but I was unable to find any information on the web regarding \"No Content Found\" as it appears to be an empty or non-existent title for a webpage.\n",
       "\n",
       "If you could provide more context or details about what this web page is supposed to be about, I would be happy to try and assist you in summarizing its content. Alternatively, if you meant to ask me to summarize something else entirely, please let me know and I'll do my best to help."
      ],
      "text/plain": [
       "<IPython.core.display.Markdown object>"
      ]
     },
     "metadata": {},
     "output_type": "display_data"
    }
   ],
   "source": [
    "userwebsite = input(\"Enter the URL of the web page you want to summarize: \")\n",
    "summary = fetch_and_summarize(userwebsite)\n",
    "display(Markdown(summary))"
   ]
  },
  {
   "cell_type": "markdown",
   "id": "b5c3cc99",
   "metadata": {},
   "source": [
    "## B. Improving Solution"
   ]
  },
  {
   "cell_type": "markdown",
   "id": "92d60fd7",
   "metadata": {},
   "source": [
    "Now implementing a key feature that allows users to generate a summary simply by providing a website link. During development, we encountered a significant technical hurdle: many modern websites, such as Investopedia, employ robust anti-scraping measures. These protections would normally block our tool and result in an error during summary generation.\n",
    "\n",
    "To overcome this obstacle, we have successfully engineered a sophisticated solution that can bypass these common restrictions. This ensures our tool can reliably access and analyze content from virtually any website, providing a seamless and consistent experience for the user."
   ]
  },
  {
   "cell_type": "code",
   "execution_count": 16,
   "id": "cbe00f41",
   "metadata": {},
   "outputs": [],
   "source": [
    "import requests\n",
    "from bs4 import BeautifulSoup\n",
    "\n",
    "class scrapped_restricted_website:\n",
    "    def __init__(self, url):\n",
    "        self.url = url\n",
    "        \n",
    "        # Define a User-Agent header to mimic a browser\n",
    "        headers = {\n",
    "            'User-Agent': 'Mozilla/5.0 (Windows NT 10.0; Win64; x64) AppleWebKit/537.36 (KHTML, like Gecko) Chrome/91.0.4472.124 Safari/537.36'\n",
    "        }\n",
    "\n",
    "        response = requests.get(url, headers=headers)\n",
    "\n",
    "        if response.status_code != 200:\n",
    "            self.title = \"Failed to retrieve page\"\n",
    "            self.text = f\"Error: Received status code {response.status_code}\"\n",
    "            return \n",
    "        \n",
    "\n",
    "        soup = BeautifulSoup(response.text, 'html.parser')\n",
    "        self.title = soup.title.string if soup.title and soup.title.string else 'No Title Found'\n",
    "        \n",
    "        for irrelevant in soup(['script', 'style']):\n",
    "            irrelevant.decompose()\n",
    "            \n",
    "        self.text = soup.body.get_text(separator='\\n', strip=True) if soup.body else 'No Content Found'"
   ]
  },
  {
   "cell_type": "code",
   "execution_count": 12,
   "id": "eea68448",
   "metadata": {},
   "outputs": [
    {
     "data": {
      "text/markdown": [
       "# Credit Card: What It Is, How It Works, and How to Get One\n",
       "\n",
       "​\n",
       "Skip to content\n",
       "News\n",
       "Markets\n",
       "Companies\n",
       "Earnings\n",
       "CD Rates\n",
       "Mortgage Rates\n",
       "Economy\n",
       "Government\n",
       "Crypto\n",
       "Live Markets News\n",
       "Personal Finance\n",
       "View All\n",
       "Investing\n",
       "Stocks\n",
       "Cryptocurrency\n",
       "Bonds\n",
       "ETFs\n",
       "Options and Derivatives\n",
       "Commodities\n",
       "Trading\n",
       "Automated Investing\n",
       "Brokers\n",
       "Fundamental Analysis\n",
       "Markets\n",
       "View All\n",
       "Simulator\n",
       "Login / Portfolio\n",
       "Trade\n",
       "Research\n",
       "My Games\n",
       "Leaderboard\n",
       "Banking\n",
       "Savings Accounts\n",
       "Certificates of Deposit (CDs)\n",
       "Money Market Accounts\n",
       "Checking Accounts\n",
       "View All\n",
       "Personal Finance\n",
       "Budgeting and Savi..."
      ],
      "text/plain": [
       "<IPython.core.display.Markdown object>"
      ]
     },
     "metadata": {},
     "output_type": "display_data"
    }
   ],
   "source": [
    "res_url = \"https://www.investopedia.com/terms/c/creditcard.asp\"\n",
    "restricted_web_page = scrapped_restricted_website(res_url)\n",
    "display(Markdown(f\"# {restricted_web_page.title}\\n\\n{restricted_web_page.text[:500]}...\"))"
   ]
  },
  {
   "cell_type": "code",
   "execution_count": 13,
   "id": "dc6b30b4",
   "metadata": {},
   "outputs": [],
   "source": [
    "def messages_res(restricted_web_page):\n",
    "    return [\n",
    "        {\"role\": \"system\", \"content\": system_prompt},\n",
    "        {\"role\": \"user\", \"content\":  f\"{user_prompt}\\n\\n{web_page.text}\"}\n",
    "    ]"
   ]
  },
  {
   "cell_type": "code",
   "execution_count": 14,
   "id": "f4554c52",
   "metadata": {},
   "outputs": [
    {
     "data": {
      "text/markdown": [
       "**Credit Cards: A Comprehensive Guide**\n",
       "\n",
       "A credit card is a type of loan that allows cardholders to borrow funds to make purchases, with the obligation to repay the borrowed amount plus interest and fees. Understanding how credit cards work, their benefits, and drawbacks can help consumers make informed decisions.\n",
       "\n",
       "**How Credit Cards Work**\n",
       "\n",
       "* **Types of Credit Cards**: Most major credit cards are issued by banks, credit unions, or other financial institutions.\n",
       "* **Interest Rates**: Credit card interest rates vary based on the type of card, APR, and payment history.\n",
       "* **Payment Terms**: Payments due within 21 days can avoid interest charges. However, if payments are carried over from previous months, interest accrues daily.\n",
       "\n",
       "**Building a Positive Credit History**\n",
       "\n",
       "* **Responsibility**: Regular, on-time payments help build strong credit scores and lines of credit.\n",
       "* **On-Time Payments**: Making timely payments is crucial for maintaining good credit habits.\n",
       "* **Debt-to-Income Ratio**: Keeping debt-to-income ratio low can improve credit scores.\n",
       "\n",
       "**Getting Started with Credit Cards**\n",
       "\n",
       "* **Secured Credit Cards**: Deposit as security, offer lower interest rates, and require less credit history.\n",
       "* **Authorized User**: Become an authorized user on an established account to gain credit history.\n",
       "* **Annual Fees**: Annual fees may apply, but can be worth it for rewards or perks.\n",
       "\n",
       "**Understanding Credit Card Terms**\n",
       "\n",
       "* **Annual Percentage Rate (APR)**: APRs vary based on card type and payment history.\n",
       "* **Grace Period**: Paying off balances before the grace period expires is a good practice to avoid interest charges.\n",
       "* **Transaction Date vs. Posting Date**: Transaction dates reflect purchases, while posting dates show when payments are added or deducted from accounts.\n",
       "\n",
       "**Tips for Credit Card Use**\n",
       "\n",
       "* **Read Fine Print**: Understand card terms and conditions before using a credit card.\n",
       "* **Use a Separate Credit Account**: Separate personal and business accounts to track expenses and avoid overspending.\n",
       "* **Avoid Closing Unused Cards**: Closing unused cards can harm credit scores, but closing them when necessary is essential.\n",
       "\n",
       "**Conclusion**\n",
       "\n",
       "Credit cards can be an effective way to manage finances, earn rewards, or build credit history. By understanding how credit cards work, building a positive credit history, and using the card responsibly, consumers can make informed decisions about their financial lives."
      ],
      "text/plain": [
       "<IPython.core.display.Markdown object>"
      ]
     },
     "metadata": {},
     "output_type": "display_data"
    }
   ],
   "source": [
    "def res_fetch_and_summarize_website(res_url):\n",
    "    restricted_web_page = scrapped_restricted_website(res_url)\n",
    "    response = ollama.chat(model=Model, messages=messages(restricted_web_page))\n",
    "    return response['message']['content']\n",
    "\n",
    "write_summary_res= res_fetch_and_summarize_website(\"https://www.investopedia.com/terms/c/creditcard.asp\")\n",
    "display(Markdown(write_summary_res))"
   ]
  },
  {
   "cell_type": "code",
   "execution_count": 15,
   "id": "42d6361d",
   "metadata": {},
   "outputs": [
    {
     "data": {
      "text/markdown": [
       "**Credit Cards: What You Need to Know**\n",
       "\n",
       "A credit card is a type of loan that allows you to borrow money to make purchases or pay for goods and services using your account. Here are the key things you need to know about credit cards:\n",
       "\n",
       "* **Definition**: A credit card is a thin rectangular piece of plastic or metal issued by a bank or financial institution that allows cardholders to borrow funds to make purchases.\n",
       "* **Types of Credit Cards**:\n",
       "\t+ Rewards credit cards offer cash back, discounts, or reward miles for purchases.\n",
       "\t+ Secured credit cards require a deposit to get and use the card, often with lower interest rates.\n",
       "\t+ Prepaid debit cards offer higher lines of credit and lower interest rates than secured credit cards.\n",
       "* **How Credit Cards Work**:\n",
       "\t+ You borrow money from the issuer to make purchases or pay for services.\n",
       "\t+ Interest is charged on unpaid balances, usually after a month.\n",
       "\t+ A grace period allows you to pay off your balance before interest accrues.\n",
       "* **Building Credit History with Credit Cards**:\n",
       "\t+ Using credit cards responsibly can help build a positive credit history and potentially extend lines of credit.\n",
       "\t+ Make regular payments, avoid late payments, and keep credit utilization under 30%.\n",
       "* **Credit Card Annual Fees**: Some credit cards don't charge an annual fee, while others may charge between $50 to $700.\n",
       "* **Interest Rates**: Credit card interest rates can be fixed or variable, and changes in APRs are typically notified with a grace period.\n",
       "\n",
       "**Top Takeaways**\n",
       "\n",
       "1. Credit cards are plastic or metal cards issued by financial institutions that allow you to borrow funds to make purchases.\n",
       "2. Using credit cards responsibly can help build a positive credit history.\n",
       "3. Credit card annual fees vary, from $50 to $700.\n",
       "4. Interest rates on credit cards can be fixed or variable.\n",
       "\n",
       "**Recommended Reading**\n",
       "\n",
       "* \"Credit Card Definitions\"\n",
       "* \"Partner Links\"\n",
       "* \"How to Add a Cardholder: Benefits, Risks, and Options\"\n",
       "\n",
       "Note: The provided text is an excerpt from Investopedia's article on credit cards, which covers various aspects of credit card use, including definitions, types, how they work, building credit history, fees, interest rates, and more."
      ],
      "text/plain": [
       "<IPython.core.display.Markdown object>"
      ]
     },
     "metadata": {},
     "output_type": "display_data"
    }
   ],
   "source": [
    "res_user_website = input(\"Enter the URL of the web page you want to summarize: \")\n",
    "summary = res_fetch_and_summarize_website(userwebsite)\n",
    "display(Markdown(summary))"
   ]
  }
 ],
 "metadata": {
  "kernelspec": {
   "display_name": "myenv",
   "language": "python",
   "name": "python3"
  },
  "language_info": {
   "codemirror_mode": {
    "name": "ipython",
    "version": 3
   },
   "file_extension": ".py",
   "mimetype": "text/x-python",
   "name": "python",
   "nbconvert_exporter": "python",
   "pygments_lexer": "ipython3",
   "version": "3.13.7"
  }
 },
 "nbformat": 4,
 "nbformat_minor": 5
}
