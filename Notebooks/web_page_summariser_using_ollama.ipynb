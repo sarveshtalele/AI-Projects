{
 "cells": [
  {
   "cell_type": "markdown",
   "id": "99dba6bb",
   "metadata": {},
   "source": [
    "# Webpage Summarizer using Ollama "
   ]
  },
  {
   "cell_type": "code",
   "execution_count": 2,
   "id": "2ff1fa1e",
   "metadata": {},
   "outputs": [],
   "source": [
    "import requests\n",
    "from bs4 import BeautifulSoup\n",
    "from IPython.display import Markdown, display\n",
    "import ollama"
   ]
  },
  {
   "cell_type": "code",
   "execution_count": 3,
   "id": "a49cea60",
   "metadata": {},
   "outputs": [],
   "source": [
    "Model = \"llama3.2:1b\""
   ]
  },
  {
   "cell_type": "code",
   "execution_count": 4,
   "id": "eccfd6b3",
   "metadata": {},
   "outputs": [],
   "source": [
    "class Scrapped_Website:\n",
    "    def __init__(self, url):\n",
    "        self.url = url\n",
    "        reponse = requests.get(url)\n",
    "        soup = BeautifulSoup(reponse.text, 'html.parser')\n",
    "        self.title = soup.title.string if soup.title and soup.title.string else 'No Title Found'\n",
    "        for irrelevant in soup(['script', 'style']):\n",
    "            irrelevant.decompose()\n",
    "        self.text = soup.body.get_text(separator='\\n', strip=True) if soup.body else 'No Content Found'"
   ]
  },
  {
   "cell_type": "code",
   "execution_count": 5,
   "id": "8cf202b5",
   "metadata": {},
   "outputs": [
    {
     "data": {
      "text/markdown": [
       "# 4 Ways to Have a Good Night's Sleep - wikiHow\n",
       "\n",
       "Skip to Content\n",
       "Quizzes\n",
       "PRO\n",
       "Courses\n",
       "Hot\n",
       "Guides\n",
       "Tech Help Pro\n",
       "Expert Videos\n",
       "About wikiHow Pro\n",
       "Upgrade\n",
       "QUIZZES\n",
       "All Quizzes\n",
       "Hot\n",
       "Love Quizzes\n",
       "Personality Quizzes\n",
       "Trivia Quizzes\n",
       "Taylor Swift Quizzes\n",
       "EDIT\n",
       "Edit this Article\n",
       "EXPLORE\n",
       "Tech Help Pro\n",
       "About Us\n",
       "Random Article\n",
       "Quizzes\n",
       "Request a New Article\n",
       "Community Dashboard\n",
       "Trending\n",
       "Forums\n",
       "Arts and Entertainment\n",
       "Artwork\n",
       "Books\n",
       "Movies\n",
       "Computers and Electronics\n",
       "Computers\n",
       "Phone Skills\n",
       "Technology Hacks\n",
       "Health\n",
       "Men's Health\n",
       "Mental Health\n",
       "Women's Health\n",
       "Relationship..."
      ],
      "text/plain": [
       "<IPython.core.display.Markdown object>"
      ]
     },
     "metadata": {},
     "output_type": "display_data"
    }
   ],
   "source": [
    "url = \"https://www.wikihow.com/Have-a-Good-Night%27s-Sleep\"\n",
    "web_page = Scrapped_Website(url)\n",
    "display(Markdown(f\"# {web_page.title}\\n\\n{web_page.text[:500]}...\"))"
   ]
  },
  {
   "cell_type": "code",
   "execution_count": 8,
   "id": "4af2cf89",
   "metadata": {},
   "outputs": [],
   "source": [
    "system_prompt=  \"\"\"You are a helpful assistant that summarizes web pages into concise and informative summaries.\n",
    "Your task is to read the content of a web page and provide a summary that captures the main points and key information.\n",
    "The summary should be clear, coherent, and easy to understand, providing a quick overview of the page's content.\n",
    "When summarizing, consider the following: Formatting in markdown the summary with bullet points or numbered lists for clarity.\n",
    "Highlighting important details and key takeaways. and Ensuring the summary is concise yet comprehensive. Style of writng should be as a journalist.\"\"\""
   ]
  },
  {
   "cell_type": "code",
   "execution_count": 7,
   "id": "075d31e3",
   "metadata": {},
   "outputs": [],
   "source": [
    "user_prompt = f\"\"\"Summarize the following web page content in a concise and informative manner.\"\"\""
   ]
  },
  {
   "cell_type": "code",
   "execution_count": 9,
   "id": "eebebf4a",
   "metadata": {},
   "outputs": [],
   "source": [
    "def messages(web_page):\n",
    "    return [\n",
    "        {\"role\": \"system\", \"content\": system_prompt},\n",
    "        {\"role\": \"user\", \"content\":  f\"{user_prompt}\\n\\n{web_page.text}\"}\n",
    "    ]"
   ]
  },
  {
   "cell_type": "code",
   "execution_count": 10,
   "id": "866d8bc8",
   "metadata": {},
   "outputs": [],
   "source": [
    "def fetch_and_summarize(url):\n",
    "    web_page = Scrapped_Website(url)\n",
    "    message = messages(web_page)\n",
    "    response = ollama.chat(model=Model, messages=messages(web_page))\n",
    "    return response['message']['content']"
   ]
  },
  {
   "cell_type": "code",
   "execution_count": 11,
   "id": "65e3d446",
   "metadata": {},
   "outputs": [
    {
     "data": {
      "text/markdown": [
       "This is not a medical article, but rather a collection of tips and advice on how to improve sleep quality. Here are some key points from the article:\n",
       "\n",
       "**General Tips**\n",
       "\n",
       "* Establish a consistent sleep schedule and bedtime routine.\n",
       "* Create a sleep-conducive environment by making your bedroom dark, quiet, and cool.\n",
       "* Avoid stimulating activities before bedtime, such as watching TV or using electronic devices.\n",
       "\n",
       "**Specific Tips for Better Sleep**\n",
       "\n",
       "* Try reading a book or listening to calming music before bed.\n",
       "* Use a warm bath or shower to relax and unwind before bed.\n",
       "* Consider napping in the daytime, but avoid napping close to bedtime.\n",
       "\n",
       "**Environmental Factors**\n",
       "\n",
       "* Blackout curtains can help create a dark environment.\n",
       "* A comfortable mattress and pillows can improve sleep quality.\n",
       "* Avoid using electronic devices in bed, as they can disrupt sleep patterns.\n",
       "\n",
       "**Additional Tips**\n",
       "\n",
       "* Try aromatherapy, such as lavender or chamomile, which can promote relaxation.\n",
       "* Consider incorporating physical activity into your daily routine to help regulate sleep.\n",
       "* If you're having trouble falling asleep, try practicing relaxation techniques, such as deep breathing or meditation.\n",
       "\n",
       "It's worth noting that this article is not meant to be a substitute for professional medical advice. If you have concerns about your sleep or overall health, it's always best to consult with a healthcare professional."
      ],
      "text/plain": [
       "<IPython.core.display.Markdown object>"
      ]
     },
     "metadata": {},
     "output_type": "display_data"
    }
   ],
   "source": [
    "write_summary= fetch_and_summarize(\"https://www.wikihow.com/Have-a-Good-Night%27s-Sleep\")\n",
    "display(Markdown(write_summary))"
   ]
  },
  {
   "cell_type": "code",
   "execution_count": null,
   "id": "6c73102b",
   "metadata": {},
   "outputs": [],
   "source": [
    "userwebsite = input(\"Enter the URL of the web page you want to summarize: \")\n",
    "summary = fetch_and_summarize(userwebsite)\n",
    "display(Markdown(summary))"
   ]
  },
  {
   "cell_type": "markdown",
   "id": "59851244",
   "metadata": {},
   "source": [
    "#Challenge: When we tried to paste https://www.investopedia.com/terms/c/creditcard.asp website link in the user prompt it has blocked access to the wesite "
   ]
  },
  {
   "cell_type": "code",
   "execution_count": 12,
   "id": "cbe00f41",
   "metadata": {},
   "outputs": [],
   "source": [
    "import requests\n",
    "from bs4 import BeautifulSoup\n",
    "\n",
    "class scrapped_restricted_website:\n",
    "    def __init__(self, url):\n",
    "        self.url = url\n",
    "        \n",
    "        # Define a User-Agent header to mimic a browser\n",
    "        headers = {\n",
    "            'User-Agent': 'Mozilla/5.0 (Windows NT 10.0; Win64; x64) AppleWebKit/537.36 (KHTML, like Gecko) Chrome/91.0.4472.124 Safari/537.36'\n",
    "        }\n",
    "        \n",
    "        # Add the headers to your request\n",
    "        response = requests.get(url, headers=headers)\n",
    "        \n",
    "        # Add a check to see if the request was successful\n",
    "        if response.status_code != 200:\n",
    "            self.title = \"Failed to retrieve page\"\n",
    "            self.text = f\"Error: Received status code {response.status_code}\"\n",
    "            return # Stop further processing if the page failed to load\n",
    "\n",
    "        soup = BeautifulSoup(response.text, 'html.parser')\n",
    "        self.title = soup.title.string if soup.title and soup.title.string else 'No Title Found'\n",
    "        \n",
    "        for irrelevant in soup(['script', 'style']):\n",
    "            irrelevant.decompose()\n",
    "            \n",
    "        self.text = soup.body.get_text(separator='\\n', strip=True) if soup.body else 'No Content Found'"
   ]
  },
  {
   "cell_type": "code",
   "execution_count": 13,
   "id": "eea68448",
   "metadata": {},
   "outputs": [
    {
     "data": {
      "text/markdown": [
       "# Credit Card: What It Is, How It Works, and How to Get One\n",
       "\n",
       "​\n",
       "Skip to content\n",
       "News\n",
       "Markets\n",
       "Companies\n",
       "Earnings\n",
       "CD Rates\n",
       "Mortgage Rates\n",
       "Economy\n",
       "Government\n",
       "Crypto\n",
       "Live Markets News\n",
       "Personal Finance\n",
       "View All\n",
       "Investing\n",
       "Stocks\n",
       "Cryptocurrency\n",
       "Bonds\n",
       "ETFs\n",
       "Options and Derivatives\n",
       "Commodities\n",
       "Trading\n",
       "Automated Investing\n",
       "Brokers\n",
       "Fundamental Analysis\n",
       "Markets\n",
       "View All\n",
       "Simulator\n",
       "Login / Portfolio\n",
       "Trade\n",
       "Research\n",
       "My Games\n",
       "Leaderboard\n",
       "Banking\n",
       "Savings Accounts\n",
       "Certificates of Deposit (CDs)\n",
       "Money Market Accounts\n",
       "Checking Accounts\n",
       "View All\n",
       "Personal Finance\n",
       "Budgeting and Savi..."
      ],
      "text/plain": [
       "<IPython.core.display.Markdown object>"
      ]
     },
     "metadata": {},
     "output_type": "display_data"
    }
   ],
   "source": [
    "restricted_url = \"https://www.investopedia.com/terms/c/creditcard.asp\"\n",
    "restricted_web_page = scrapped_restricted_website(restricted_url)\n",
    "display(Markdown(f\"# {restricted_web_page.title}\\n\\n{restricted_web_page.text[:500]}...\"))"
   ]
  },
  {
   "cell_type": "code",
   "execution_count": 14,
   "id": "dc6b30b4",
   "metadata": {},
   "outputs": [],
   "source": [
    "def messages_res(restricted_web_page):\n",
    "    return [\n",
    "        {\"role\": \"system\", \"content\": system_prompt},\n",
    "        {\"role\": \"user\", \"content\":  f\"{user_prompt}\\n\\n{web_page.text}\"}\n",
    "    ]"
   ]
  },
  {
   "cell_type": "code",
   "execution_count": 15,
   "id": "f4554c52",
   "metadata": {},
   "outputs": [
    {
     "data": {
      "text/markdown": [
       "**Credit Card Overview**\n",
       "\n",
       "A credit card is a plastic or metal card issued by a financial institution that allows cardholders to borrow funds to make purchases, with the obligation to repay the borrowed funds plus interest and fees. Credit cards impose the condition that cardholders pay back the borrowed money, plus any applicable interest and additional agreed-upon charges.\n",
       "\n",
       "**Types of Credit Cards**\n",
       "\n",
       "* Rewards credit cards: offer incentives such as airline miles, hotel room rentals, gift certificates, and cash back on purchases\n",
       "* Secured credit cards: require a security deposit to get and use the card, offering limited lines of credit and lower interest rates\n",
       "* Prepaid debit cards: match available funds with deposited money in a linked bank account\n",
       "\n",
       "**Building Credit History With Credit Cards**\n",
       "\n",
       "To build a positive credit history, regular, non-secured, and secured cards can be used responsibly. Making on-time payments, keeping credit utilization under the credit limit, and maintaining a low debt-to-income ratio are essential for building strong credit scores.\n",
       "\n",
       "**Getting Started With Credit Cards**\n",
       "\n",
       "* Opening a secured credit card is one of the simplest ways to get started\n",
       "* Becoming an authorized user on an established credit account can also be an option\n",
       "* Making regular payments helps build credit history\n",
       "\n",
       "**Annual Fee Considerations**\n",
       "\n",
       "* Annual fees range from $50 to $700, depending on the card issuer and rewards program\n",
       "* Some cards offer fixed APRs for purchases but variable APRs for cash advances or late payments\n",
       "* Understanding the terms and conditions of a credit card is essential for making informed decisions\n",
       "\n",
       "**Transaction Date vs. Posting Date**\n",
       "\n",
       "* The transaction date is the day of the purchase or payment using the card\n",
       "* The posting date is the day that the purchase or payment is added to the account balance"
      ],
      "text/plain": [
       "<IPython.core.display.Markdown object>"
      ]
     },
     "metadata": {},
     "output_type": "display_data"
    }
   ],
   "source": [
    "def fetch_and_summarize_restricted_website(restricted_url):\n",
    "    restricted_web_page = scrapped_restricted_website(restricted_url)\n",
    "    response = ollama.chat(model=Model, messages=messages(restricted_web_page))\n",
    "    return response['message']['content']\n",
    "\n",
    "write_summary_res= fetch_and_summarize_restricted_website(\"https://www.investopedia.com/terms/c/creditcard.asp\")\n",
    "display(Markdown(write_summary_res))"
   ]
  }
 ],
 "metadata": {
  "kernelspec": {
   "display_name": "myenv",
   "language": "python",
   "name": "python3"
  },
  "language_info": {
   "codemirror_mode": {
    "name": "ipython",
    "version": 3
   },
   "file_extension": ".py",
   "mimetype": "text/x-python",
   "name": "python",
   "nbconvert_exporter": "python",
   "pygments_lexer": "ipython3",
   "version": "3.13.7"
  }
 },
 "nbformat": 4,
 "nbformat_minor": 5
}
